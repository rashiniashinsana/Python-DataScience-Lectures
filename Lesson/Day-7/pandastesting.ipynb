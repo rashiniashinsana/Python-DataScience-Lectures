{
 "cells": [
  {
   "cell_type": "code",
   "execution_count": 10,
   "metadata": {},
   "outputs": [
    {
     "ename": "ModuleNotFoundError",
     "evalue": "No module named 'pandas'",
     "output_type": "error",
     "traceback": [
      "\u001b[1;31m---------------------------------------------------------------------------\u001b[0m",
      "\u001b[1;31mModuleNotFoundError\u001b[0m                       Traceback (most recent call last)",
      "Cell \u001b[1;32mIn[10], line 1\u001b[0m\n\u001b[1;32m----> 1\u001b[0m \u001b[38;5;28;01mimport\u001b[39;00m \u001b[38;5;21;01mpandas\u001b[39;00m \u001b[38;5;28;01mas\u001b[39;00m \u001b[38;5;21;01mpd\u001b[39;00m \u001b[38;5;66;03m# type: ignore\u001b[39;00m\n\u001b[0;32m      3\u001b[0m data \u001b[38;5;241m=\u001b[39m {\n\u001b[0;32m      4\u001b[0m     \u001b[38;5;124m'\u001b[39m\u001b[38;5;124mName\u001b[39m\u001b[38;5;124m'\u001b[39m : [\u001b[38;5;124m'\u001b[39m\u001b[38;5;124maloce\u001b[39m\u001b[38;5;124m'\u001b[39m, \u001b[38;5;124m'\u001b[39m\u001b[38;5;124mbobs\u001b[39m\u001b[38;5;124m'\u001b[39m, \u001b[38;5;124m'\u001b[39m\u001b[38;5;124mcharli\u001b[39m\u001b[38;5;124m'\u001b[39m, \u001b[38;5;124m'\u001b[39m\u001b[38;5;124mdavid\u001b[39m\u001b[38;5;124m'\u001b[39m],\n\u001b[0;32m      5\u001b[0m     \u001b[38;5;124m'\u001b[39m\u001b[38;5;124mAge\u001b[39m\u001b[38;5;124m'\u001b[39m : [\u001b[38;5;241m25\u001b[39m, \u001b[38;5;241m35\u001b[39m, \u001b[38;5;241m91\u001b[39m, \u001b[38;5;241m54\u001b[39m]\n\u001b[0;32m      6\u001b[0m }\n\u001b[0;32m      8\u001b[0m df \u001b[38;5;241m=\u001b[39m pd\u001b[38;5;241m.\u001b[39mDataFrame(data)\n",
      "\u001b[1;31mModuleNotFoundError\u001b[0m: No module named 'pandas'"
     ]
    }
   ],
   "source": [
    "import pandas as pd # type: ignore\n",
    "\n",
    "data = {\n",
    "    'Name' : ['aloce', 'bobs', 'charli', 'david'],\n",
    "    'Age' : [25, 35, 91, 54]\n",
    "}\n",
    "\n",
    "df = pd.DataFrame(data)\n",
    "\n",
    "print(df)\n",
    "print(type(df))\n"
   ]
  },
  {
   "cell_type": "code",
   "execution_count": null,
   "metadata": {},
   "outputs": [],
   "source": [
    "import pandas as pd \n",
    "\n",
    "data = {\n",
    "    'Name' : ['aliss', 'bob', 'charli', 'david'],\n",
    "    'Age' : [25, 35, 91, 54]\n",
    "}\n",
    "\n",
    "df = pd.DataFrame(data)\n",
    "\n",
    "print(df)\n",
    "\n",
    "print('\\n',df.loc[1,'Name']) # access the bob (value using lable access) \n",
    "\n",
    "print('\\n',df.iloc[1,0]) #access the bob (value using index access)\n",
    "\n",
    "print('\\n',df.loc[2]) #access the bob (value using index access)\n",
    "\n",
    "print(\"\\n\",df.loc[[0,3]]) #access the bob (value using index access)"
   ]
  },
  {
   "cell_type": "code",
   "execution_count": null,
   "metadata": {},
   "outputs": [],
   "source": [
    "import pandas as pd \n",
    "\n",
    "data = {\n",
    "    'Calories' : [370, 380, 390],\n",
    "    'Duration' : [25, 35, 91]\n",
    "}\n",
    "\n",
    "df = pd.DataFrame(data, index=['day1', 'day2', 'day3'])\n",
    "\n",
    "print(df)\n",
    "\n",
    "print('\\n',df.loc['day1','Calories']) # access the bob (value using lable access) \n",
    "\n",
    "print('\\n',df.iloc[0,0]) #access the bob (value using index access)\n",
    "\n",
    "print('\\n',df.loc['day2'])\n",
    "\n",
    "print('\\n',df.iloc[[1]])\n",
    "\n",
    "print('\\n',df['Calories']) # access only Coloumns \n",
    "\n",
    "print('\\n',df['Duration']) # access only coloumns \n",
    "\n",
    "print('\\n',df.shape) # get shape the it's like a tuple \n",
    "\n",
    "print('\\n',df.size) # get size or length in this dataFrame\n",
    "\n",
    "print('\\n',df.dtypes) # get datatypes in this dataFrame"
   ]
  },
  {
   "cell_type": "code",
   "execution_count": null,
   "metadata": {},
   "outputs": [],
   "source": [
    "import pandas as pd \n",
    "\n",
    "df = pd.DataFrame({'A':[1,2], 'B':[3,4]}) # define a new array with key values \n",
    "\n",
    "print(df)\n",
    "\n",
    "print(df.columns) # get coloumns"
   ]
  },
  {
   "cell_type": "code",
   "execution_count": null,
   "metadata": {},
   "outputs": [],
   "source": [
    "import pandas as pd \n",
    "\n",
    "data = {\n",
    "    'Calories' : [370, 380, 390],\n",
    "    'Duration' : [25, 35, 91]\n",
    "}\n",
    "\n",
    "df = pd.DataFrame(data)\n",
    "\n",
    "print(df)\n",
    "\n",
    "arr =  df.values\n",
    "print('dataframe convert to array : \\n',arr)\n",
    "print(type(arr))"
   ]
  },
  {
   "cell_type": "code",
   "execution_count": null,
   "metadata": {},
   "outputs": [],
   "source": [
    "import pandas as pd \n",
    "\n",
    "data = {\n",
    "    'Calories' : [370, 380, 390],\n",
    "    'Duration' : [25, 35, 91]\n",
    "}\n",
    "\n",
    "df = pd.DataFrame(data)\n",
    "\n",
    "print(df)\n",
    "\n",
    "print('get row count in using len : ',len(df))"
   ]
  },
  {
   "cell_type": "code",
   "execution_count": null,
   "metadata": {},
   "outputs": [],
   "source": [
    "import pandas as pd \n",
    "\n",
    "data = {\n",
    "    'Age' : [25, 30, 35, 40],\n",
    "    'Salary' : [50000,60000, 70000, 80000]\n",
    "}\n",
    "\n",
    "df = pd.DataFrame(data)\n",
    "\n",
    "print(df)\n",
    "\n",
    "\n",
    "print(\"find mean in DataForm : \\n\",df.mean)\n",
    "\n",
    "print(\"\\nfind mean in DataForm in coloumn : \\n\",df['Age'].mean)\n",
    "\n",
    "print(\"\\nfind Sum of sallery DataForm in coloumn : \\n\",df.sum())\n",
    "\n",
    "print(\"\\nfind Sum of sallery DataForm in coloumn : \\n\",df['Salary'].sum())"
   ]
  },
  {
   "cell_type": "code",
   "execution_count": null,
   "metadata": {},
   "outputs": [],
   "source": [
    "import pandas as pd \n",
    "\n",
    "data = {\n",
    "    'Name' : ['aliss', 'bob', 'charli', 'david'],\n",
    "    'Age' : [25, 35, 91, 54],\n",
    "    'Score' : [85, 70, 90, 88] \n",
    "}\n",
    "\n",
    "df = pd.DataFrame(data)\n",
    "print(df)\n",
    "\n",
    "condition = df[\"Age\"] > 75 # filter data with condition giving\n",
    "print(df[condition])\n",
    "\n",
    "sorted_values = df.sort_values(by='Age')\n",
    "print('\\nSort table value :\\n',sorted_values)"
   ]
  },
  {
   "cell_type": "code",
   "execution_count": null,
   "metadata": {},
   "outputs": [],
   "source": [
    "import pandas as pd \n",
    "#  How to add a Row \n",
    "df = pd.DataFrame({'A':[1,2], 'B':[3,4]}) # define a new array with key values \n",
    "\n",
    "print(df)\n",
    "\n",
    "df.loc[len(df)] = [5, 6]\n",
    "print('\\n',df) # add new row"
   ]
  },
  {
   "cell_type": "code",
   "execution_count": null,
   "metadata": {},
   "outputs": [
    {
     "ename": "ModuleNotFoundError",
     "evalue": "No module named 'pandas'",
     "output_type": "error",
     "traceback": [
      "\u001b[1;31m---------------------------------------------------------------------------\u001b[0m",
      "\u001b[1;31mModuleNotFoundError\u001b[0m                       Traceback (most recent call last)",
      "Cell \u001b[1;32mIn[12], line 1\u001b[0m\n\u001b[1;32m----> 1\u001b[0m \u001b[38;5;28;01mimport\u001b[39;00m \u001b[38;5;21;01mpandas\u001b[39;00m \u001b[38;5;28;01mas\u001b[39;00m \u001b[38;5;21;01mpd\u001b[39;00m  \u001b[38;5;66;03m# type: ignore\u001b[39;00m\n\u001b[0;32m      3\u001b[0m \u001b[38;5;66;03m# Define a DataFrame\u001b[39;00m\n\u001b[0;32m      4\u001b[0m df \u001b[38;5;241m=\u001b[39m pd\u001b[38;5;241m.\u001b[39mDataFrame({\u001b[38;5;124m'\u001b[39m\u001b[38;5;124mA\u001b[39m\u001b[38;5;124m'\u001b[39m: [\u001b[38;5;241m1\u001b[39m, \u001b[38;5;241m2\u001b[39m], \u001b[38;5;124m'\u001b[39m\u001b[38;5;124mB\u001b[39m\u001b[38;5;124m'\u001b[39m: [\u001b[38;5;241m3\u001b[39m, \u001b[38;5;241m4\u001b[39m]})  \n",
      "\u001b[1;31mModuleNotFoundError\u001b[0m: No module named 'pandas'"
     ]
    }
   ],
   "source": [
    "import pandas as pd  # type: ignore\n",
    "\n",
    "# Define a DataFrame\n",
    "df = pd.DataFrame({'A': [1, 2], 'B': [3, 4]})  \n",
    "print(\"Original DataFrame:\")\n",
    "print(df)\n",
    "\n",
    "# Add a new row\n",
    "# new_row = {'A': 5, 'B': 6}  # New row as a dictionary\n",
    "# df = df.append(new_row, ignore_index=True)  # Add the new row\n",
    "# print(\"\\nDataFrame after adding a row:\")\n",
    "# print(df)\n",
    "\n",
    "# Drop a column\n",
    "dropped_column = df.drop('B', axis=1)\n",
    "print(\"\\nDataFrame after dropping column 'B':\")\n",
    "print(dropped_column)\n",
    "\n",
    "# Drop a row\n",
    "dropped_row = df.drop(0, axis=0)  # Drop the first row\n",
    "print(\"\\nDataFrame after dropping the first row:\")\n",
    "print(dropped_row)\n",
    "\n"
   ]
  }
 ],
 "metadata": {
  "kernelspec": {
   "display_name": "Python 3",
   "language": "python",
   "name": "python3"
  },
  "language_info": {
   "codemirror_mode": {
    "name": "ipython",
    "version": 3
   },
   "file_extension": ".py",
   "mimetype": "text/x-python",
   "name": "python",
   "nbconvert_exporter": "python",
   "pygments_lexer": "ipython3",
   "version": "3.13.1"
  }
 },
 "nbformat": 4,
 "nbformat_minor": 2
}
