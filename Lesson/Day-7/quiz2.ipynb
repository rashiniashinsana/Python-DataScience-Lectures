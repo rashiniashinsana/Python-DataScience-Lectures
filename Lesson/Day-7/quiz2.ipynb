{
 "cells": [
  {
   "cell_type": "code",
   "execution_count": null,
   "metadata": {},
   "outputs": [],
   "source": [
    "import numpy as np\n",
    "\n",
    "arr = np.array([1,2,3,4,5,6,7,8,9,10,20])\n",
    "\n",
    "condition = 0 == arr%2  \n",
    "print(\"This is 3D Array filtering process check: \\n \\n\",condition)\n",
    "\n",
    "result_array = arr[condition]# array filter process\n",
    "\n",
    "print(result_array) "
   ]
  },
  {
   "cell_type": "code",
   "execution_count": null,
   "metadata": {},
   "outputs": [],
   "source": [
    "import numpy as np\n",
    "\n",
    "arr = np.array([10, 20, 30, 40, 50])\n",
    "\n",
    "# mean_value = np.mean(arr)\n",
    "condition = arr > (np.mean(arr))\n",
    "print(\"This is the condition for filtering the 3D array:\\n\", condition)\n",
    "\n",
    "result_array = arr[condition]\n",
    "print(\"Filtered array elements greater than the mean:\", result_array)"
   ]
  }
 ],
 "metadata": {
  "kernelspec": {
   "display_name": "Python 3",
   "language": "python",
   "name": "python3"
  },
  "language_info": {
   "name": "python",
   "version": "3.13.1"
  }
 },
 "nbformat": 4,
 "nbformat_minor": 2
}
