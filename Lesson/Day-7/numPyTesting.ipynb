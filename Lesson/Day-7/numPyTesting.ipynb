{
 "cells": [
  {
   "cell_type": "code",
   "execution_count": null,
   "metadata": {},
   "outputs": [],
   "source": [
    "import numpy as np\n",
    "\n",
    "array_1 = np.array([6,10,11,1])\n",
    "\n",
    "array_2 = np.array([5,9,10,4])\n",
    "\n",
    "sum_array = array_1 + array_2\n",
    "print(sum_array)\n",
    "\n",
    "substract_array = array_1 - array_2\n",
    "print(substract_array)\n",
    "\n",
    "multiply_array = array_1 / array_2\n",
    "print(multiply_array)\n",
    "\n",
    "devide_array = array_1 + array_2\n",
    "print(devide_array)\n",
    "\n",
    "square_array = array_1 ** 2\n",
    "print(square_array)"
   ]
  },
  {
   "cell_type": "code",
   "execution_count": null,
   "metadata": {},
   "outputs": [],
   "source": [
    "import numpy as np\n",
    "\n",
    "array_1 = np.array([25,68,4])\n",
    "\n",
    "result_sqrt = np.sqrt(array_1)\n",
    "print(\"square :\",result_sqrt)\n",
    "\n",
    "result_sqrt = np.sum(array_1)\n",
    "print(\"Sum :\",result_sqrt)\n",
    "\n",
    "result_sqrt = np.average(array_1)\n",
    "print(\"average :\", result_sqrt)\n",
    "\n",
    "result_sqrt = np.min(array_1)\n",
    "print(\"min :\",result_sqrt)\n",
    "\n",
    "result_sqrt = np.max(array_1)\n",
    "print(\"max :\",result_sqrt)"
   ]
  },
  {
   "cell_type": "code",
   "execution_count": null,
   "metadata": {},
   "outputs": [],
   "source": [
    "import numpy as np\n",
    "\n",
    "array_0 = ([[1,2,3], [4,5,6], [7,8,9]])\n",
    "\n",
    "array_1 = np.array([[1,2,3], [4,5,6], [7,8,9]])\n",
    "\n",
    "print(array_0,\"This is 2D Array but\", type(array_1),'\\n')\n",
    "print(array_1,\"This is 2D Array\", type(array_1))"
   ]
  },
  {
   "cell_type": "code",
   "execution_count": null,
   "metadata": {},
   "outputs": [],
   "source": [
    "import numpy as np\n",
    "\n",
    "array_1 = np.array([[1,2,3], [4,5,6]])\n",
    "\n",
    "array_2 = np.array([[[1,2,3], [4,5,6]], [[7,8,9],[10,11,12]]])\n",
    "\n",
    "print(\"This is 3D Array\",array_2)\n",
    "\n",
    "print(\"\\nArray shape in Array 1 2D:\",array_1.shape)\n",
    "print(\"Array shape Array 1 3D:\",array_2.shape)\n",
    "\n",
    "print(\"\\nArray size in Array 1 2D:\",array_1.size)\n",
    "print(\"Array size Array 1 3D:\",array_2.size)\n",
    "\n",
    "print(\"\\nGet Dimention in Array 1 2D:\",array_1.ndim)\n",
    "print(\"Get Dimention Array 1 3D:\",array_2.ndim)\n",
    "\n",
    "print(\"\\nGet character Data Type in Array 1 2D:\",array_1.dtype)\n",
    "print(\"Get character Data Type in Array 1 3D:\",array_2.dtype)\n",
    "\n",
    "\n",
    "print(\"\\nAccess values in Array 1 2D:\",array_1[1,1])# get 5 vlue\n",
    "print(\"Access values in Array 3D:\",array_2[1,1,2])# get 12 vlue "
   ]
  },
  {
   "cell_type": "code",
   "execution_count": null,
   "metadata": {},
   "outputs": [],
   "source": [
    "import numpy as np\n",
    "\n",
    "array_2 = np.array([[[1,2,3], [4,5,6]], [[7,8,9],[10,11,12]]])\n",
    "\n",
    "print(\"This is 3D Array : \",array_2)\n",
    "\n",
    "condition = array_2 < 6 # 6ට වඩා විශාල ඒව විතරක් ගන්න \n",
    "print(\"This is 3D Array filtering process check: \\n \\n\",condition)\n",
    "\n",
    "result_array = array_2[condition]# array filter process\n",
    "\n",
    "print(result_array)"
   ]
  },
  {
   "cell_type": "code",
   "execution_count": null,
   "metadata": {},
   "outputs": [],
   "source": [
    "import numpy as np\n",
    "\n",
    "arr = np.array([[10,20,30,40,50,60]])\n",
    "\n",
    "filterd_array = arr[arr < 25]\n",
    "\n",
    "print(\"This is filtured arryay : \",filterd_array)"
   ]
  },
  {
   "cell_type": "code",
   "execution_count": null,
   "metadata": {},
   "outputs": [],
   "source": [
    "import numpy as np\n",
    "\n",
    "arr = np.array([[10,20,30,40,50,60]])\n",
    "\n",
    "filterd_array = arr[(arr > 20) & (arr < 60)] #filter array in greater than 20 and less than 50\n",
    "\n",
    "print(\"This is filtured arryay : \",filterd_array) \n"
   ]
  },
  {
   "cell_type": "code",
   "execution_count": null,
   "metadata": {},
   "outputs": [],
   "source": [
    "import numpy as np\n",
    "\n",
    "arr_1 = np.zeros(5)# define new 2D array with zero values\n",
    "print(arr_1)\n",
    "\n",
    "arr_2 =np.zeros((2,3)) # define new 2D array with zero values\n",
    "print(arr_2) "
   ]
  },
  {
   "cell_type": "code",
   "execution_count": null,
   "metadata": {},
   "outputs": [],
   "source": [
    "import numpy as np\n",
    "\n",
    "arr_2 =np.zeros((2,3), dtype=int)\n",
    "print(arr_2) "
   ]
  },
  {
   "cell_type": "code",
   "execution_count": null,
   "metadata": {},
   "outputs": [],
   "source": [
    "import numpy as np\n",
    "\n",
    "arr_2 =np.full(8,10)# define new 2D array with any our choosing values\n",
    "print(arr_2)"
   ]
  },
  {
   "cell_type": "code",
   "execution_count": 3,
   "metadata": {},
   "outputs": [
    {
     "ename": "ModuleNotFoundError",
     "evalue": "No module named 'numpy'",
     "output_type": "error",
     "traceback": [
      "\u001b[1;31m---------------------------------------------------------------------------\u001b[0m",
      "\u001b[1;31mModuleNotFoundError\u001b[0m                       Traceback (most recent call last)",
      "Cell \u001b[1;32mIn[3], line 1\u001b[0m\n\u001b[1;32m----> 1\u001b[0m \u001b[38;5;28;01mimport\u001b[39;00m \u001b[38;5;21;01mnumpy\u001b[39;00m \u001b[38;5;28;01mas\u001b[39;00m \u001b[38;5;21;01mnp\u001b[39;00m\n\u001b[0;32m      3\u001b[0m arr_2 \u001b[38;5;241m=\u001b[39mnp\u001b[38;5;241m.\u001b[39mfull((\u001b[38;5;241m3\u001b[39m,\u001b[38;5;241m4\u001b[39m),\u001b[38;5;241m7\u001b[39m)\u001b[38;5;66;03m# define new 2D array with any our choosing values\u001b[39;00m\n\u001b[0;32m      4\u001b[0m \u001b[38;5;28mprint\u001b[39m(arr_2)\n",
      "\u001b[1;31mModuleNotFoundError\u001b[0m: No module named 'numpy'"
     ]
    }
   ],
   "source": [
    "import numpy as np\n",
    "\n",
    "arr_2 =np.full((3,4),7)# define new 2D array with any our choosing values\n",
    "print(arr_2)"
   ]
  },
  {
   "cell_type": "code",
   "execution_count": 2,
   "metadata": {},
   "outputs": [
    {
     "ename": "ModuleNotFoundError",
     "evalue": "No module named 'numpy'",
     "output_type": "error",
     "traceback": [
      "\u001b[1;31m---------------------------------------------------------------------------\u001b[0m",
      "\u001b[1;31mModuleNotFoundError\u001b[0m                       Traceback (most recent call last)",
      "Cell \u001b[1;32mIn[2], line 1\u001b[0m\n\u001b[1;32m----> 1\u001b[0m \u001b[38;5;28;01mimport\u001b[39;00m \u001b[38;5;21;01mnumpy\u001b[39;00m \u001b[38;5;28;01mas\u001b[39;00m \u001b[38;5;21;01mnp\u001b[39;00m\n\u001b[0;32m      3\u001b[0m arr_2 \u001b[38;5;241m=\u001b[39mnp\u001b[38;5;241m.\u001b[39mempty((\u001b[38;5;241m2\u001b[39m,\u001b[38;5;241m3\u001b[39m))\u001b[38;5;66;03m# define new 2D array with any our choosing values\u001b[39;00m\n\u001b[0;32m      4\u001b[0m \u001b[38;5;28mprint\u001b[39m(arr_2)\n",
      "\u001b[1;31mModuleNotFoundError\u001b[0m: No module named 'numpy'"
     ]
    }
   ],
   "source": [
    "import numpy as np\n",
    "\n",
    "arr_2 =np.empty((2,3))# define new 2D array with any our choosing values\n",
    "print(arr_2)"
   ]
  }
 ],
 "metadata": {
  "kernelspec": {
   "display_name": "Python 3",
   "language": "python",
   "name": "python3"
  },
  "language_info": {
   "codemirror_mode": {
    "name": "ipython",
    "version": 3
   },
   "file_extension": ".py",
   "mimetype": "text/x-python",
   "name": "python",
   "nbconvert_exporter": "python",
   "pygments_lexer": "ipython3",
   "version": "3.13.1"
  }
 },
 "nbformat": 4,
 "nbformat_minor": 2
}
