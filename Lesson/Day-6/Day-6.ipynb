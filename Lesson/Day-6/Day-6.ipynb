{
 "cells": [
  {
   "cell_type": "code",
   "execution_count": 5,
   "metadata": {},
   "outputs": [
    {
     "name": "stdout",
     "output_type": "stream",
     "text": [
      "I love programming\n",
      "I love world <class 'str'>\n"
     ]
    }
   ],
   "source": [
    "file_1 = open(\"./text.txt\")\n",
    "read_content = file_1.read()\n",
    "print(read_content, type(read_content))"
   ]
  },
  {
   "cell_type": "markdown",
   "metadata": {},
   "source": [
    "# readline()   \n",
    "* currently curser ek thina thena indl next line ekt\n",
    "* readline dmmot 1st sentence print weno\n",
    "* realines dmmot list ekk widiyt txt file eke thin sentences print weno"
   ]
  },
  {
   "cell_type": "code",
   "execution_count": 7,
   "metadata": {},
   "outputs": [
    {
     "name": "stdout",
     "output_type": "stream",
     "text": [
      "['I love programming\\n', 'I love world'] \n",
      " <class 'list'>\n"
     ]
    }
   ],
   "source": [
    "file_1 = open(\"./text.txt\",\"r\")\n",
    "read_content = file_1.readlines()\n",
    "print(read_content,'\\n', type(read_content))\n",
    "file_1.close()"
   ]
  },
  {
   "cell_type": "code",
   "execution_count": 8,
   "metadata": {},
   "outputs": [
    {
     "name": "stdout",
     "output_type": "stream",
     "text": [
      "I love programming\n",
      " \n",
      " <class 'str'>\n"
     ]
    }
   ],
   "source": [
    "file_1 = open(\"./text.txt\",\"r\")\n",
    "read_content = file_1.readline()\n",
    "print(read_content,'\\n', type(read_content))\n",
    "file_1.close()"
   ]
  },
  {
   "cell_type": "markdown",
   "metadata": {},
   "source": [
    "creating new file with w"
   ]
  },
  {
   "cell_type": "code",
   "execution_count": 9,
   "metadata": {},
   "outputs": [],
   "source": [
    "file_1 = open(\"./write_file.txt\",\"w\")\n",
    "content = file_1.write(\"Hello,this is a write file\")\n",
    "file_1.close()"
   ]
  },
  {
   "cell_type": "markdown",
   "metadata": {},
   "source": [
    "file write with appending"
   ]
  },
  {
   "cell_type": "code",
   "execution_count": null,
   "metadata": {},
   "outputs": [],
   "source": [
    "file_1 = open(\"./write_file.txt\",\"a\")\n",
    "content = file_1.write(\"Hello,this is appending\")\n",
    "file_1.close()"
   ]
  },
  {
   "cell_type": "markdown",
   "metadata": {},
   "source": [
    "file handling \"with\"\n",
    "\n",
    "* no nead to close when we use 'with' statement"
   ]
  },
  {
   "cell_type": "code",
   "execution_count": 14,
   "metadata": {},
   "outputs": [
    {
     "name": "stdout",
     "output_type": "stream",
     "text": [
      "I love programming\n",
      "I love world\n"
     ]
    }
   ],
   "source": [
    "with open(\"./text.txt\",\"r\") as file_1:\n",
    "    content = file_1.read()\n",
    "    print(content)"
   ]
  },
  {
   "cell_type": "markdown",
   "metadata": {},
   "source": [
    "no need to close file when we use 'with' statement"
   ]
  },
  {
   "cell_type": "code",
   "execution_count": 15,
   "metadata": {},
   "outputs": [],
   "source": [
    "with open(\"./write_file.txt\",\"w\") as file_1:\n",
    "    content = file_1.write(\"Hello this is a write file in this statement\")\n",
    " "
   ]
  },
  {
   "cell_type": "markdown",
   "metadata": {},
   "source": [
    "write line methods"
   ]
  },
  {
   "cell_type": "code",
   "execution_count": 18,
   "metadata": {},
   "outputs": [],
   "source": [
    "with open (\"./write_file.txt\",\"w\") as file_1:\n",
    "    file_1.writelines(\"Meka maru,\\n\"\"Supiri\")\n",
    "\n",
    "    "
   ]
  },
  {
   "cell_type": "markdown",
   "metadata": {},
   "source": [
    "1. create a program that store and manage contacts in a file name contacts.txt\n",
    " each contact entry should have name, phone number and email \n",
    "\n",
    " 2. Feature to implement\n",
    " * view all contact \n",
    " * read and display all contact from the file\n",
    " * add a new contact \n",
    "            ** append the contact to the file\n",
    "3. Exit from the program \n",
    "\n"
   ]
  },
  {
   "cell_type": "code",
   "execution_count": 19,
   "metadata": {},
   "outputs": [
    {
     "name": "stdout",
     "output_type": "stream",
     "text": [
      "\n",
      "Contact Management System\n",
      "1. View all contacts\n",
      "2. Add a new contact\n",
      "3. Exit\n",
      "Contact added successfully.\n",
      "\n",
      "Contact Management System\n",
      "1. View all contacts\n",
      "2. Add a new contact\n",
      "3. Exit\n",
      "Exiting the program.\n"
     ]
    }
   ],
   "source": [
    "def view_contacts():\n",
    "    try:\n",
    "        with open(\"contacts.txt\", \"r\") as file:\n",
    "            contacts = file.readlines()\n",
    "            if contacts:\n",
    "                for contact in contacts:\n",
    "                    print(contact.strip())\n",
    "            else:\n",
    "                print(\"No contacts found.\")\n",
    "    except FileNotFoundError:\n",
    "        print(\"No contacts found. The file does not exist yet.\")\n",
    "\n",
    "def add_contact(name, phone, email):\n",
    "    with open(\"contacts.txt\", \"a\") as file:\n",
    "        file.write(f\"{name},{phone},{email}\\n\")\n",
    "    print(\"Contact added successfully.\")\n",
    "\n",
    "def main():\n",
    "    while True:\n",
    "        print(\"\\nContact Management System\")\n",
    "        print(\"1. View all contacts\")\n",
    "        print(\"2. Add a new contact\")\n",
    "        print(\"3. Exit\")\n",
    "        choice = input(\"Enter your choice: \")\n",
    "\n",
    "        if choice == '1':\n",
    "            view_contacts()\n",
    "        elif choice == '2':\n",
    "            name = input(\"Enter name: \")\n",
    "            phone = input(\"Enter phone number: \")\n",
    "            email = input(\"Enter email: \")\n",
    "            add_contact(name, phone, email)\n",
    "        elif choice == '3':\n",
    "            print(\"Exiting the program.\")\n",
    "            break\n",
    "        else:\n",
    "            print(\"Invalid choice. Please try again.\")\n",
    "\n",
    "main()"
   ]
  },
  {
   "cell_type": "code",
   "execution_count": 21,
   "metadata": {},
   "outputs": [
    {
     "name": "stdout",
     "output_type": "stream",
     "text": [
      "{'fruit': 'Apple', 'size': 'Large', 'color': 'Red'}\n"
     ]
    }
   ],
   "source": [
    "#json file reading\n",
    "import json\n",
    "\n",
    "with open(\"json/example_1.json\",\"r\") as json_file:\n",
    "    content = json.load(json_file)\n",
    "    print(content)"
   ]
  },
  {
   "cell_type": "code",
   "execution_count": 23,
   "metadata": {},
   "outputs": [
    {
     "name": "stdout",
     "output_type": "stream",
     "text": [
      "fruit : Apple\n",
      "size : Large\n",
      "color : Red\n"
     ]
    }
   ],
   "source": [
    "#json file reading\n",
    "import json\n",
    "\n",
    "with open(\"json/example_1.json\",\"r\") as json_file:\n",
    "    content = json.load(json_file)\n",
    "    for key, value in content.items():\n",
    "        print(key,\":\" , value)"
   ]
  },
  {
   "cell_type": "markdown",
   "metadata": {},
   "source": [
    "you are given a jason file name student.json\n",
    "which contain information about students and their grades. your taks is to\n",
    "1. read the jason file\n",
    "2. display the name of all students who scored above 75\n",
    "3. add the new student record to the file\n",
    "4. save the updated data back to the json file"
   ]
  },
  {
   "cell_type": "code",
   "execution_count": null,
   "metadata": {},
   "outputs": [
    {
     "name": "stdout",
     "output_type": "stream",
     "text": [
      "Students scoring above 75:\n",
      "Rashi\n"
     ]
    }
   ],
   "source": [
    "import json\n",
    "\n",
    "file_name = \".json\"\n",
    "\n",
    "def read_json(file_name):\n",
    "    try:\n",
    "        with open(file_name, 'r') as file:\n",
    "            return json.load(file)\n",
    "    except (FileNotFoundError, json.JSONDecodeError):\n",
    "        return []\n",
    "\n",
    "def display_high_scorers(data):\n",
    "    print(\"Students scoring above 75:\")\n",
    "    for student in data:\n",
    "        if student.get(\"grade\", 0) > 75:\n",
    "            print(student.get(\"name\", \"Unknown\"))\n",
    "\n",
    "def add_student(data, name, grade):\n",
    "    data.append({\"name\": name, \"grade\": grade})\n",
    "\n",
    "def save_json(file_name, data):\n",
    "    with open(file_name, 'w') as file:\n",
    "        json.dump(data, file, indent=4)\n",
    "\n",
    "def main():\n",
    "    data = read_json(file_name)\n",
    "    display_high_scorers(data)\n",
    "    name = input(\"Enter the new student's name: \")\n",
    "    grade = int(input(\"Enter the new student's grade: \"))\n",
    "    add_student(data, name, grade)\n",
    "    save_json(file_name, data)\n",
    "\n",
    "if __name__ == \"__main__\":\n",
    "    main()\n"
   ]
  },
  {
   "cell_type": "markdown",
   "metadata": {},
   "source": [
    "# * CSV file use karanu labanne structured data save krnna"
   ]
  },
  {
   "cell_type": "code",
   "execution_count": null,
   "metadata": {},
   "outputs": [],
   "source": []
  }
 ],
 "metadata": {
  "kernelspec": {
   "display_name": "Python 3",
   "language": "python",
   "name": "python3"
  },
  "language_info": {
   "codemirror_mode": {
    "name": "ipython",
    "version": 3
   },
   "file_extension": ".py",
   "mimetype": "text/x-python",
   "name": "python",
   "nbconvert_exporter": "python",
   "pygments_lexer": "ipython3",
   "version": "3.13.1"
  }
 },
 "nbformat": 4,
 "nbformat_minor": 2
}
