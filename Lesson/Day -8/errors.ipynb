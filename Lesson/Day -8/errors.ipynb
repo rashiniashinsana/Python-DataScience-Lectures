{
 "cells": [
  {
   "cell_type": "markdown",
   "metadata": {},
   "source": [
    " 1. Syntax Errors\n",
    " 2. Runtime Errors\n",
    " 3. Logical Errors\n",
    " 4. Traceback\n",
    "    * NameError\n",
    "    * TypeError\n",
    "    * KeyError\n",
    "    \n",
    "    "
   ]
  },
  {
   "cell_type": "code",
   "execution_count": 2,
   "metadata": {},
   "outputs": [
    {
     "name": "stdout",
     "output_type": "stream",
     "text": [
      "30\n"
     ]
    }
   ],
   "source": [
    "#Print statement in Debugging\n",
    "\n",
    "total = 0\n",
    "for i in range(1,11):\n",
    "    if i % 2 == 0:\n",
    "        total += i\n",
    "print(total)"
   ]
  },
  {
   "cell_type": "code",
   "execution_count": 3,
   "metadata": {},
   "outputs": [
    {
     "ename": "_IncompleteInputError",
     "evalue": "incomplete input (2405544036.py, line 4)",
     "output_type": "error",
     "traceback": [
      "\u001b[1;36m  Cell \u001b[1;32mIn[3], line 4\u001b[1;36m\u001b[0m\n\u001b[1;33m    def multiplication(a,b):\u001b[0m\n\u001b[1;37m                            ^\u001b[0m\n\u001b[1;31m_IncompleteInputError\u001b[0m\u001b[1;31m:\u001b[0m incomplete input\n"
     ]
    }
   ],
   "source": [
    "#pdb debugger\n",
    "\n",
    "import pdb\n",
    "def multiplication(a,b):\n",
    "    answer = a * b\n",
    "    return answer \n",
    "pdb.set_trace()\n",
    "x = input(\"Enter first Number : \")\n",
    "y = input(\"Enter second Number : \")\n",
    "mul = multiplication(x,y)\n",
    "print(mul)"
   ]
  }
 ],
 "metadata": {
  "kernelspec": {
   "display_name": "Python 3",
   "language": "python",
   "name": "python3"
  },
  "language_info": {
   "codemirror_mode": {
    "name": "ipython",
    "version": 3
   },
   "file_extension": ".py",
   "mimetype": "text/x-python",
   "name": "python",
   "nbconvert_exporter": "python",
   "pygments_lexer": "ipython3",
   "version": "3.13.1"
  }
 },
 "nbformat": 4,
 "nbformat_minor": 2
}
