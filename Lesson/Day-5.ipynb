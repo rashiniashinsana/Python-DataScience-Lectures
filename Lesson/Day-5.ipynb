{
 "cells": [
  {
   "cell_type": "code",
   "execution_count": 1,
   "metadata": {},
   "outputs": [
    {
     "ename": "TypeError",
     "evalue": "Car() takes no arguments",
     "output_type": "error",
     "traceback": [
      "\u001b[1;31m---------------------------------------------------------------------------\u001b[0m",
      "\u001b[1;31mTypeError\u001b[0m                                 Traceback (most recent call last)",
      "Cell \u001b[1;32mIn[1], line 8\u001b[0m\n\u001b[0;32m      5\u001b[0m     \u001b[38;5;28;01mdef\u001b[39;00m \u001b[38;5;21m_init_\u001b[39m(\u001b[38;5;28mself\u001b[39m,name):\n\u001b[0;32m      6\u001b[0m         \u001b[38;5;28mself\u001b[39m\u001b[38;5;241m.\u001b[39mname \u001b[38;5;241m=\u001b[39m name\n\u001b[1;32m----> 8\u001b[0m new_car \u001b[38;5;241m=\u001b[39m \u001b[43mCar\u001b[49m\u001b[43m(\u001b[49m\u001b[38;5;124;43m'\u001b[39;49m\u001b[38;5;124;43mAudi\u001b[39;49m\u001b[38;5;124;43m'\u001b[39;49m\u001b[43m)\u001b[49m\n\u001b[0;32m      9\u001b[0m \u001b[38;5;28mprint\u001b[39m(new_car\u001b[38;5;241m.\u001b[39mname)\n",
      "\u001b[1;31mTypeError\u001b[0m: Car() takes no arguments"
     ]
    }
   ],
   "source": [
    "#Python class with constructor\n",
    "class Car:\n",
    "    category = 'Vehicle'\n",
    "\n",
    "    def _init_(self,name):\n",
    "        self.name = name\n",
    "\n",
    "new_car = Car('Audi')\n",
    "print(new_car.name)"
   ]
  },
  {
   "cell_type": "code",
   "execution_count": null,
   "metadata": {},
   "outputs": [
    {
     "ename": "TypeError",
     "evalue": "Car() takes no arguments",
     "output_type": "error",
     "traceback": [
      "\u001b[1;31m---------------------------------------------------------------------------\u001b[0m",
      "\u001b[1;31mTypeError\u001b[0m                                 Traceback (most recent call last)",
      "Cell \u001b[1;32mIn[2], line 14\u001b[0m\n\u001b[0;32m     11\u001b[0m     \u001b[38;5;28;01mdef\u001b[39;00m \u001b[38;5;21mupdate\u001b[39m(\u001b[38;5;28mself\u001b[39m, name):\n\u001b[0;32m     12\u001b[0m         \u001b[38;5;28mself\u001b[39m\u001b[38;5;241m.\u001b[39mname \u001b[38;5;241m=\u001b[39m name\n\u001b[1;32m---> 14\u001b[0m new_car \u001b[38;5;241m=\u001b[39m \u001b[43mCar\u001b[49m\u001b[43m(\u001b[49m\u001b[38;5;124;43m'\u001b[39;49m\u001b[38;5;124;43mAudi\u001b[39;49m\u001b[38;5;124;43m'\u001b[39;49m\u001b[43m)\u001b[49m\n\u001b[0;32m     15\u001b[0m \u001b[38;5;28mprint\u001b[39m(new_car\u001b[38;5;241m.\u001b[39mname)\n\u001b[0;32m     16\u001b[0m new_car\u001b[38;5;241m.\u001b[39mupdate(\u001b[38;5;124m'\u001b[39m\u001b[38;5;124mBMW\u001b[39m\u001b[38;5;124m'\u001b[39m)\n",
      "\u001b[1;31mTypeError\u001b[0m: Car() takes no arguments"
     ]
    }
   ],
   "source": [
    "#Exercise-1\n",
    "class Car:\n",
    "    category = 'Vehicle'\n",
    "\n",
    "    def _init_(self, name):\n",
    "        self.name = name\n",
    "\n",
    "    def display(self):\n",
    "        print(self.name)\n",
    "    \n",
    "    def update(self, name):\n",
    "        self.name = name\n",
    "\n",
    "    new_car = Car('Audi')\n",
    "    print(new_car.name)\n",
    "    new_car.update('BMW')\n",
    "    print(new_car.name)"
   ]
  },
  {
   "cell_type": "markdown",
   "metadata": {},
   "source": [
    "write a python program to define and use a class represing a bank account \n",
    "1. create a class name (BankAccount) with the following \n",
    "* an attibute 'account_holder' to hold the name of the account holder \n",
    "* an attibute blance to store the account balance initialize to 0\n",
    "\n",
    "2. at the folowing methord to the class deposits amount and withdraw amount add the given amount to the blance \n",
    "withdraw:(subsract the amount from the blance if suffcient funds exits)\n",
    "* display_balance() to display the current balance\n",
    "\n",
    "3. write the  small script to demostrate the following \n",
    "Create an object of the class BankAccount \n",
    "Display the balance after each operators"
   ]
  },
  {
   "cell_type": "code",
   "execution_count": 3,
   "metadata": {},
   "outputs": [
    {
     "name": "stdout",
     "output_type": "stream",
     "text": [
      "Account Holder: Rashini Vithanage\n",
      "Current balance: $0.00\n",
      "Deposited $500.00 successfully.\n",
      "Current balance: $500.00\n",
      "Deposited $300.00 successfully.\n",
      "Current balance: $800.00\n",
      "Withdrew $200.00 successfully.\n",
      "Current balance: $600.00\n",
      "Insufficient funds for this withdrawal.\n",
      "Current balance: $600.00\n",
      "Deposit amount must be positive.\n",
      "Withdrawal amount must be positive.\n",
      "Current balance: $600.00\n"
     ]
    }
   ],
   "source": [
    "class BankAccount:\n",
    "    def __init__(self, account_holder):\n",
    "       \n",
    "        self.account_holder = account_holder\n",
    "        self.balance = 0\n",
    "\n",
    "    def deposit(self, amount):\n",
    "       \n",
    "        if amount > 0:\n",
    "            self.balance += amount\n",
    "            print(f\"Deposited ${amount:.2f} successfully.\")\n",
    "        else:\n",
    "            print(\"Deposit amount must be positive.\")\n",
    "\n",
    "    def withdraw(self, amount):\n",
    "        \n",
    "        if amount > 0:\n",
    "            if amount <= self.balance:\n",
    "                self.balance -= amount\n",
    "                print(f\"Withdrew ${amount:.2f} successfully.\")\n",
    "            else:\n",
    "                print(\"Insufficient funds for this withdrawal.\")\n",
    "        else:\n",
    "            print(\"Withdrawal amount must be positive.\")\n",
    "\n",
    "    def display_balance(self):\n",
    "        \n",
    "        print(f\"Current balance: ${self.balance:.2f}\")\n",
    "\n",
    "\n",
    "\n",
    "if __name__ == \"__main__\":\n",
    "    account = BankAccount(\"Rashini Vithanage\")\n",
    "\n",
    "    print(f\"Account Holder: {account.account_holder}\")\n",
    "    account.display_balance()\n",
    "\n",
    "    account.deposit(500)\n",
    "    account.display_balance()\n",
    "\n",
    "    account.deposit(300)\n",
    "    account.display_balance()\n",
    "\n",
    "    account.withdraw(200)\n",
    "    account.display_balance()\n",
    "\n",
    "    account.withdraw(700) \n",
    "    account.display_balance()\n",
    "\n",
    "    account.deposit(-50)  \n",
    "    account.withdraw(-30)  \n",
    "    account.display_balance()\n"
   ]
  },
  {
   "cell_type": "code",
   "execution_count": null,
   "metadata": {},
   "outputs": [],
   "source": [
    "class Animal:\n",
    "    def _init_(self,name):\n",
    "        self.name = name\n",
    "\n",
    "class Dog(Animal):\n",
    "    def _init_(self, name,color):\n",
    "        super()._init_(name)\n",
    "        self.color = color\n",
    "\n",
    "dog_obj = Dog('Tomy', 'Brown')\n",
    "print(dog_obj.name)\n",
    "print(dog_obj.color)"
   ]
  },
  {
   "cell_type": "markdown",
   "metadata": {},
   "source": [
    "# You are task with crearting Library management system using inheritance . Implement the classes.\n",
    "\n",
    "1. Base class: Library item\n",
    "  Attributes :title,author,publication_year(int),display_info, print the detail of the item\n",
    "\n",
    "2. Child class: Book\n",
    "* Inherit from library item\n",
    "* additional attributes\n",
    "* genric ISBN\n",
    "Overwrite: display_info()\n",
    "print the details information including genre and isbn\n",
    "\n",
    "3. Magazine classes:\n",
    "* Inherit from Library Items\n",
    "* additional attribute: Issue\n",
    "overwrite display_info()\n",
    "print the all details and issue\n",
    "\n",
    "TASK:\n",
    "create instances each class with appropriate values for ther attributes\n",
    "\n",
    "call display info methods for method interface and method overwite\n"
   ]
  },
  {
   "cell_type": "code",
   "execution_count": null,
   "metadata": {},
   "outputs": [],
   "source": [
    "class LibraryItems:\n",
    "    def _init_(self, title, author, publication_year):\n",
    "        self.title = title\n",
    "        self.author = author\n",
    "        self.publication_year = publication_year\n",
    "\n",
    "    def display_info(self):\n",
    "        print(f\"Title: {self.title}\")\n",
    "        print(f\"Author: {self.author}\")\n",
    "        print(f\"Publication Year: {self.publication_year}\")\n",
    "\n",
    "class Book(LibraryItems):\n",
    "    def _init_(self, title, author, publication_year, genre, isbn):\n",
    "        super()._init_(title, author, publication_year)\n",
    "        self.genre = genre\n",
    "        self.isbn = isbn\n",
    "\n",
    "    def display_info(self):\n",
    "        super().display_info()\n",
    "        print(f\"Genre: {self.genre}\")\n",
    "        print(f\"ISBN: {self.isbn}\")\n",
    "\n",
    "class Magazine(LibraryItems):\n",
    "    def _init_(self, title, author, publication_year, issue):\n",
    "        super()._init_(title, author, publication_year)\n",
    "        self.issue = issue\n",
    "\n",
    "    def display_info(self):\n",
    "        super().display_info()\n",
    "        print(f\"Issue: {self.issue}\")\n",
    "\n",
    "\n",
    "book = Book(\"The Great\", \"Scott\", 1925, \"Novel\", \"97273565\")\n",
    "magazine = Magazine(\"National\", \"Various\", 2021, \"March 2021\")\n",
    "\n",
    "\n",
    "book.display_info()\n",
    "print(\"\\n\")\n",
    "magazine.display_info()"
   ]
  }
 ],
 "metadata": {
  "kernelspec": {
   "display_name": "Python 3",
   "language": "python",
   "name": "python3"
  },
  "language_info": {
   "codemirror_mode": {
    "name": "ipython",
    "version": 3
   },
   "file_extension": ".py",
   "mimetype": "text/x-python",
   "name": "python",
   "nbconvert_exporter": "python",
   "pygments_lexer": "ipython3",
   "version": "3.13.1"
  }
 },
 "nbformat": 4,
 "nbformat_minor": 2
}
