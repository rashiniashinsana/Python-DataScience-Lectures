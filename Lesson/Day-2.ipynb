{
 "cells": [
  {
   "cell_type": "code",
   "execution_count": null,
   "metadata": {},
   "outputs": [],
   "source": []
  },
  {
   "cell_type": "code",
   "execution_count": null,
   "metadata": {},
   "outputs": [],
   "source": [
    "#To get a input form the user\n",
    "x = input(\"Enter a number: \")\n",
    "\n",
    "#Deafult input is string so we have to convert it to int\n",
    "x = int(x)\n",
    "\n",
    "if x % 2 ==0:\n",
    "    print(\"Value is even\")\n",
    "else:\n",
    "    print(\"Value is odd\")\n",
    "\n"
   ]
  }
 ],
 "metadata": {
  "kernelspec": {
   "display_name": "Python 3",
   "language": "python",
   "name": "python3"
  },
  "language_info": {
   "name": "python",
   "version": "3.13.1"
  }
 },
 "nbformat": 4,
 "nbformat_minor": 2
}
