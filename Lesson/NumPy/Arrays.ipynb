{
 "cells": [
  {
   "cell_type": "code",
   "execution_count": 2,
   "metadata": {},
   "outputs": [
    {
     "ename": "ModuleNotFoundError",
     "evalue": "No module named 'numpy'",
     "output_type": "error",
     "traceback": [
      "\u001b[1;31m---------------------------------------------------------------------------\u001b[0m",
      "\u001b[1;31mModuleNotFoundError\u001b[0m                       Traceback (most recent call last)",
      "Cell \u001b[1;32mIn[2], line 1\u001b[0m\n\u001b[1;32m----> 1\u001b[0m \u001b[38;5;28;01mimport\u001b[39;00m \u001b[38;5;21;01mnumpy\u001b[39;00m \u001b[38;5;28;01mas\u001b[39;00m \u001b[38;5;21;01mnp\u001b[39;00m\n\u001b[0;32m      3\u001b[0m array_1\u001b[38;5;241m=\u001b[39mnp\u001b[38;5;241m.\u001b[39marray([\u001b[38;5;241m1\u001b[39m,\u001b[38;5;241m4\u001b[39m,\u001b[38;5;241m16\u001b[39m,\u001b[38;5;241m64\u001b[39m,\u001b[38;5;241m625\u001b[39m])\n\u001b[0;32m      5\u001b[0m \u001b[38;5;66;03m#square root of array\u001b[39;00m\n",
      "\u001b[1;31mModuleNotFoundError\u001b[0m: No module named 'numpy'"
     ]
    }
   ],
   "source": [
    "import numpy as np\n",
    "\n",
    "array_1=np.array([1,4,16,64,625])\n",
    "\n",
    "#square root of array\n",
    "sqrt_array=np.sqrt(array_1)\n",
    "print('square root of array :',sqrt_array)\n",
    "\n",
    "#summation of array\n",
    "sum_array=np.sum(array_1)\n",
    "print('sum of array :',sum_array)\n",
    "\n",
    "\n",
    "#mean of array\n",
    "mean_array=np.mean(array_1)\n",
    "print('mean of array :',mean_array)\n",
    "\n",
    "\n",
    "#max of array\n",
    "max_array=np.max(array_1)\n",
    "print('max of array :',max_array)\n",
    "\n",
    "\n",
    "#min of array\n",
    "min_array=np.min(array_1)\n",
    "print('min of array :',min_array)"
   ]
  },
  {
   "cell_type": "code",
   "execution_count": 13,
   "metadata": {},
   "outputs": [
    {
     "ename": "ModuleNotFoundError",
     "evalue": "No module named 'NumPy'",
     "output_type": "error",
     "traceback": [
      "\u001b[1;31m---------------------------------------------------------------------------\u001b[0m",
      "\u001b[1;31mModuleNotFoundError\u001b[0m                       Traceback (most recent call last)",
      "Cell \u001b[1;32mIn[13], line 1\u001b[0m\n\u001b[1;32m----> 1\u001b[0m \u001b[38;5;28;01mimport\u001b[39;00m \u001b[38;5;21;01mNumPy\u001b[39;00m \u001b[38;5;28;01mas\u001b[39;00m \u001b[38;5;21;01mnp\u001b[39;00m\n\u001b[0;32m      3\u001b[0m array_1\u001b[38;5;241m=\u001b[39mnp\u001b[38;5;241m.\u001b[39marray([\u001b[38;5;241m1\u001b[39m,\u001b[38;5;241m2\u001b[39m,\u001b[38;5;241m3\u001b[39m,\u001b[38;5;241m4\u001b[39m,\u001b[38;5;241m5\u001b[39m])\n\u001b[0;32m      4\u001b[0m array_2\u001b[38;5;241m=\u001b[39mnp\u001b[38;5;241m.\u001b[39marray([\u001b[38;5;241m5\u001b[39m,\u001b[38;5;241m4\u001b[39m,\u001b[38;5;241m3\u001b[39m,\u001b[38;5;241m2\u001b[39m,\u001b[38;5;241m1\u001b[39m])\n",
      "\u001b[1;31mModuleNotFoundError\u001b[0m: No module named 'NumPy'"
     ]
    }
   ],
   "source": [
    "import NumPy as np\n",
    "\n",
    "array_1=np.array([1,2,3,4,5])\n",
    "array_2=np.array([5,4,3,2,1])\n",
    "print(type(array_1))\n",
    "\n",
    "sum_array=array_1+array_2\n",
    "print('sum array :',sum_array)\n",
    "\n",
    "\n",
    "sub_array=array_1-array_2\n",
    "print('sub array :',sub_array)\n",
    "\n",
    "\n",
    "mul_array=array_1*array_2\n",
    "print('mul array :',mul_array)\n",
    "\n",
    "\n",
    "div_array=array_1/array_2\n",
    "print('div array :',div_array)\n",
    "\n",
    "\n",
    "sqaure_array_1=array_1**2\n",
    "print('sqaure array 1 :',sqaure_array_1)\n",
    "\n",
    "sqaure_array_2=array_2**2\n",
    "print('sqaure array 2 :',sqaure_array_2)"
   ]
  },
  {
   "cell_type": "code",
   "execution_count": null,
   "metadata": {},
   "outputs": [],
   "source": []
  },
  {
   "cell_type": "markdown",
   "metadata": {},
   "source": [
    "1.create a 1d numpy array from 1 to 20 .use boolean index to extract all even numbers \n",
    "2.given the numpy array with elements 10,20,30,40,50 \n",
    "   * use boolean indexing to extract all elements greater than the mean(average) of the array"
   ]
  },
  {
   "cell_type": "code",
   "execution_count": 14,
   "metadata": {},
   "outputs": [
    {
     "ename": "ModuleNotFoundError",
     "evalue": "No module named 'numpy'",
     "output_type": "error",
     "traceback": [
      "\u001b[1;31m---------------------------------------------------------------------------\u001b[0m",
      "\u001b[1;31mModuleNotFoundError\u001b[0m                       Traceback (most recent call last)",
      "Cell \u001b[1;32mIn[14], line 1\u001b[0m\n\u001b[1;32m----> 1\u001b[0m \u001b[38;5;28;01mimport\u001b[39;00m \u001b[38;5;21;01mnumpy\u001b[39;00m \u001b[38;5;28;01mas\u001b[39;00m \u001b[38;5;21;01mnpy\u001b[39;00m\n\u001b[0;32m      3\u001b[0m array_2\u001b[38;5;241m=\u001b[39mnp\u001b[38;5;241m.\u001b[39marray([\u001b[38;5;241m1\u001b[39m,\u001b[38;5;241m2\u001b[39m,\u001b[38;5;241m3\u001b[39m,\u001b[38;5;241m4\u001b[39m,\u001b[38;5;241m5\u001b[39m,\u001b[38;5;241m6\u001b[39m,\u001b[38;5;241m7\u001b[39m,\u001b[38;5;241m8\u001b[39m,\u001b[38;5;241m9.10\u001b[39m,\u001b[38;5;241m11\u001b[39m,\u001b[38;5;241m12\u001b[39m,\u001b[38;5;241m13\u001b[39m,\u001b[38;5;241m14\u001b[39m,\u001b[38;5;241m15\u001b[39m,\u001b[38;5;241m16\u001b[39m,\u001b[38;5;241m17\u001b[39m,\u001b[38;5;241m18\u001b[39m,\u001b[38;5;241m19\u001b[39m,\u001b[38;5;241m20\u001b[39m])\n\u001b[0;32m      5\u001b[0m array_even_numbers\u001b[38;5;241m=\u001b[39marray_2[array_2\u001b[38;5;241m%\u001b[39m\u001b[38;5;241m2\u001b[39m\u001b[38;5;241m==\u001b[39m\u001b[38;5;241m0\u001b[39m]\n",
      "\u001b[1;31mModuleNotFoundError\u001b[0m: No module named 'numpy'"
     ]
    }
   ],
   "source": [
    "import numpy as npy\n",
    "\n",
    "array_2=np.array([1,2,3,4,5,6,7,8,9.10,11,12,13,14,15,16,17,18,19,20])\n",
    "\n",
    "array_even_numbers=array_2[array_2%2==0]\n",
    "print('even numbers :',array_even_numbers)\n",
    "\n",
    "\n",
    "\n",
    "array_3=np.array([10,20,30,40,50])\n",
    "array_greater_than_mean=array_3[array_3>np.mean(array_3)]\n",
    "print('elements greater than mean :',array_greater_than_mean)"
   ]
  }
 ],
 "metadata": {
  "kernelspec": {
   "display_name": "Python 3",
   "language": "python",
   "name": "python3"
  },
  "language_info": {
   "codemirror_mode": {
    "name": "ipython",
    "version": 3
   },
   "file_extension": ".py",
   "mimetype": "text/x-python",
   "name": "python",
   "nbconvert_exporter": "python",
   "pygments_lexer": "ipython3",
   "version": "3.13.1"
  }
 },
 "nbformat": 4,
 "nbformat_minor": 2
}
