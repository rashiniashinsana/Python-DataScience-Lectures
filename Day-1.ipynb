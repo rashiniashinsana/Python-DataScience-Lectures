{
 "cells": [
  {
   "cell_type": "code",
   "execution_count": 1,
   "metadata": {},
   "outputs": [
    {
     "name": "stdout",
     "output_type": "stream",
     "text": [
      "Hello World\n"
     ]
    }
   ],
   "source": [
    "print(\"Hello World\")"
   ]
  },
  {
   "cell_type": "code",
   "execution_count": 5,
   "metadata": {},
   "outputs": [
    {
     "name": "stdout",
     "output_type": "stream",
     "text": [
      "The type of variable having value 10 is <class 'int'>\n"
     ]
    }
   ],
   "source": [
    "a=10\n",
    "print(\"The type of variable having value\",a,\"is\",(type(a)))"
   ]
  },
  {
   "cell_type": "code",
   "execution_count": 6,
   "metadata": {},
   "outputs": [
    {
     "name": "stdout",
     "output_type": "stream",
     "text": [
      "25000.0 <class 'float'>\n"
     ]
    }
   ],
   "source": [
    "a=2.5e4\n",
    "print(a,type(a))"
   ]
  },
  {
   "cell_type": "code",
   "execution_count": 7,
   "metadata": {},
   "outputs": [
    {
     "name": "stdout",
     "output_type": "stream",
     "text": [
      "5.0 <class 'float'>\n"
     ]
    }
   ],
   "source": [
    "a=5\n",
    "b=float (a)\n",
    "print(b,type(b))\n"
   ]
  },
  {
   "cell_type": "code",
   "execution_count": 11,
   "metadata": {},
   "outputs": [
    {
     "name": "stdout",
     "output_type": "stream",
     "text": [
      "7 <class 'int'>\n"
     ]
    }
   ],
   "source": [
    "c=7.0\n",
    "d=int(c)\n",
    "print(d,type(d))"
   ]
  },
  {
   "cell_type": "code",
   "execution_count": 16,
   "metadata": {},
   "outputs": [
    {
     "name": "stdout",
     "output_type": "stream",
     "text": [
      "[10, 5, 8, 20, 25] <class 'list'>\n"
     ]
    }
   ],
   "source": [
    "my_list=[10,5,8,20,25]\n",
    "print(my_list,type(my_list))"
   ]
  },
  {
   "cell_type": "code",
   "execution_count": 20,
   "metadata": {},
   "outputs": [
    {
     "name": "stdout",
     "output_type": "stream",
     "text": [
      "25\n"
     ]
    }
   ],
   "source": [
    "my_list=[10,5,8,20,25]\n",
    "print(my_list[4])"
   ]
  },
  {
   "cell_type": "code",
   "execution_count": 22,
   "metadata": {},
   "outputs": [
    {
     "name": "stdout",
     "output_type": "stream",
     "text": [
      "True\n"
     ]
    }
   ],
   "source": [
    "my_list=[10,5,8,\"cat\",25,True]\n",
    "print(my_list[5])"
   ]
  },
  {
   "cell_type": "code",
   "execution_count": 25,
   "metadata": {},
   "outputs": [
    {
     "name": "stdout",
     "output_type": "stream",
     "text": [
      "True\n",
      "cat\n"
     ]
    }
   ],
   "source": [
    "my_list=[10,5,8,\"cat\",25,True]\n",
    "print(my_list[-1])\n",
    "\n",
    "my_list=[10,5,8,\"cat\",25,True]\n",
    "print(my_list[-3])"
   ]
  },
  {
   "cell_type": "code",
   "execution_count": 27,
   "metadata": {},
   "outputs": [
    {
     "name": "stdout",
     "output_type": "stream",
     "text": [
      "[10, 5, 8]\n"
     ]
    }
   ],
   "source": [
    "\n",
    "my_list=[10,5,8,\"cat\",25,True]\n",
    "print(my_list[:3])"
   ]
  },
  {
   "cell_type": "code",
   "execution_count": 28,
   "metadata": {},
   "outputs": [
    {
     "name": "stdout",
     "output_type": "stream",
     "text": [
      "[8, 'cat', 25, True]\n"
     ]
    }
   ],
   "source": [
    "\n",
    "my_list=[10,5,8,\"cat\",25,True]\n",
    "print(my_list[2:])"
   ]
  },
  {
   "cell_type": "code",
   "execution_count": 37,
   "metadata": {},
   "outputs": [
    {
     "name": "stdout",
     "output_type": "stream",
     "text": [
      "[10, 'parrot', 17.0, 'cat', 25, True]\n"
     ]
    }
   ],
   "source": [
    "\n",
    "my_list=[10,5,8,\"cat\",25,True]\n",
    "my_list[1:3]=[\"parrot\",17.0]\n",
    "print(my_list)"
   ]
  },
  {
   "cell_type": "code",
   "execution_count": 38,
   "metadata": {},
   "outputs": [
    {
     "name": "stdout",
     "output_type": "stream",
     "text": [
      "[10, 5, 'Rat', 8, 'cat', 25, True] 7\n"
     ]
    }
   ],
   "source": [
    "my_list=[10,5,8,\"cat\",25,True]\n",
    "my_list.insert(2,\"Rat\")\n",
    "print(my_list,len(my_list))"
   ]
  },
  {
   "cell_type": "code",
   "execution_count": 40,
   "metadata": {},
   "outputs": [
    {
     "name": "stdout",
     "output_type": "stream",
     "text": [
      "[10, 5, 8, 'cat', 25, True, 'Carrot'] 7\n"
     ]
    }
   ],
   "source": [
    "my_list=[10,5,8,\"cat\",25,True]\n",
    "my_list.append(\"Carrot\")\n",
    "print(my_list,len(my_list))"
   ]
  },
  {
   "cell_type": "code",
   "execution_count": null,
   "metadata": {},
   "outputs": [
    {
     "name": "stdout",
     "output_type": "stream",
     "text": [
      "[10, 5, 'cat', 'Dog', True, 'john', 3, False] 8\n"
     ]
    }
   ],
   "source": [
    "my_list=[10,5,\"Cat\",\"Dog\",True]\n",
    "my_list_1=[\"john\",3,False]\n",
    "my_list.extend(my_list_1)\n",
    "print(my_list,len(my_list))"
   ]
  },
  {
   "cell_type": "code",
   "execution_count": 26,
   "metadata": {},
   "outputs": [
    {
     "name": "stdout",
     "output_type": "stream",
     "text": [
      "[5, 8, 'cat'] <class 'list'>\n"
     ]
    }
   ],
   "source": [
    "my_list=[10,5,8,\"cat\",25,True]\n",
    "print(my_list[1:4],type(my_list[1:4]))"
   ]
  },
  {
   "cell_type": "code",
   "execution_count": 23,
   "metadata": {},
   "outputs": [
    {
     "name": "stdout",
     "output_type": "stream",
     "text": [
      "6\n"
     ]
    }
   ],
   "source": [
    "my_list=[10,5,8,\"cat\",25,True]\n",
    "print(len(my_list))"
   ]
  },
  {
   "cell_type": "code",
   "execution_count": 3,
   "metadata": {},
   "outputs": [
    {
     "name": "stdout",
     "output_type": "stream",
     "text": [
      "10\n",
      "<class 'int'>\n"
     ]
    }
   ],
   "source": [
    "a=10\n",
    "print(a)\n",
    "print(type(a))"
   ]
  },
  {
   "cell_type": "code",
   "execution_count": null,
   "metadata": {},
   "outputs": [
    {
     "name": "stdout",
     "output_type": "stream",
     "text": [
      "[10, 5, 8, 'cat', True]\n"
     ]
    }
   ],
   "source": [
    "my_list=[10,5,8,\"cat\",25,True]\n",
    "my_list.pop(4)\n",
    "print(my_list)"
   ]
  },
  {
   "cell_type": "code",
   "execution_count": 56,
   "metadata": {},
   "outputs": [
    {
     "name": "stdout",
     "output_type": "stream",
     "text": [
      "[10, 5, 8, 25, True]\n"
     ]
    }
   ],
   "source": [
    "my_list=[10,5,8,\"cat\",25,True]\n",
    "del my_list[3]\n",
    "print(my_list)"
   ]
  },
  {
   "cell_type": "code",
   "execution_count": 58,
   "metadata": {},
   "outputs": [
    {
     "ename": "NameError",
     "evalue": "name 'my_list' is not defined",
     "output_type": "error",
     "traceback": [
      "\u001b[1;31m---------------------------------------------------------------------------\u001b[0m",
      "\u001b[1;31mNameError\u001b[0m                                 Traceback (most recent call last)",
      "Cell \u001b[1;32mIn[58], line 3\u001b[0m\n\u001b[0;32m      1\u001b[0m my_list\u001b[38;5;241m=\u001b[39m[\u001b[38;5;241m10\u001b[39m,\u001b[38;5;241m5\u001b[39m,\u001b[38;5;241m8\u001b[39m,\u001b[38;5;124m\"\u001b[39m\u001b[38;5;124mcat\u001b[39m\u001b[38;5;124m\"\u001b[39m,\u001b[38;5;241m25\u001b[39m,\u001b[38;5;28;01mTrue\u001b[39;00m]\n\u001b[0;32m      2\u001b[0m \u001b[38;5;28;01mdel\u001b[39;00m my_list\n\u001b[1;32m----> 3\u001b[0m \u001b[38;5;28mprint\u001b[39m(\u001b[43mmy_list\u001b[49m,\u001b[38;5;28mlen\u001b[39m(my_list))\n",
      "\u001b[1;31mNameError\u001b[0m: name 'my_list' is not defined"
     ]
    }
   ],
   "source": [
    "my_list=[10,5,8,\"cat\",25,True]\n",
    "del my_list\n",
    "print(my_list,len(my_list))"
   ]
  },
  {
   "cell_type": "code",
   "execution_count": null,
   "metadata": {},
   "outputs": [
    {
     "name": "stdout",
     "output_type": "stream",
     "text": [
      "[] 0\n"
     ]
    }
   ],
   "source": [
    "my_list=[10,5,8,\"cat\",25,True]\n",
    "my_list.clear()\n",
    "print(my_list,len(my_list))"
   ]
  },
  {
   "cell_type": "code",
   "execution_count": 62,
   "metadata": {},
   "outputs": [
    {
     "name": "stdout",
     "output_type": "stream",
     "text": [
      "['apple', 'banana', 'grapes', 'orange']\n"
     ]
    }
   ],
   "source": [
    "my_list=[\"grapes\",\"apple\",\"orange\",\"banana\"]\n",
    "my_list.sort()\n",
    "print(my_list)"
   ]
  },
  {
   "cell_type": "markdown",
   "metadata": {},
   "source": [
    "Case sensitive sorting -priority(uppercase)"
   ]
  },
  {
   "cell_type": "code",
   "execution_count": null,
   "metadata": {},
   "outputs": [],
   "source": [
    "Case Sensitive"
   ]
  },
  {
   "cell_type": "code",
   "execution_count": 64,
   "metadata": {},
   "outputs": [
    {
     "name": "stdout",
     "output_type": "stream",
     "text": [
      "['Grapes', 'apple', 'banana', 'orange']\n"
     ]
    }
   ],
   "source": [
    "my_list=[\"Grapes\",\"apple\",\"orange\",\"banana\"]\n",
    "my_list.sort()\n",
    "print(my_list)"
   ]
  },
  {
   "cell_type": "markdown",
   "metadata": {},
   "source": [
    "Case Insensitive"
   ]
  },
  {
   "cell_type": "code",
   "execution_count": 65,
   "metadata": {},
   "outputs": [
    {
     "name": "stdout",
     "output_type": "stream",
     "text": [
      "['apple', 'banana', 'Grapes', 'orange']\n"
     ]
    }
   ],
   "source": [
    "my_list=[\"Grapes\",\"apple\",\"orange\",\"banana\"]\n",
    "my_list.sort(key=str.lower)\n",
    "print(my_list)"
   ]
  },
  {
   "cell_type": "code",
   "execution_count": 66,
   "metadata": {},
   "outputs": [
    {
     "name": "stdout",
     "output_type": "stream",
     "text": [
      "[3, 5, 8, 10, 25]\n"
     ]
    }
   ],
   "source": [
    "my_list=[5,3,10,25,8]\n",
    "my_list.sort()\n",
    "print(my_list)"
   ]
  },
  {
   "cell_type": "code",
   "execution_count": 68,
   "metadata": {},
   "outputs": [
    {
     "name": "stdout",
     "output_type": "stream",
     "text": [
      "[25, 10, 8, 5, 3]\n"
     ]
    }
   ],
   "source": [
    "my_list=[5,3,10,25,8]\n",
    "my_list.sort(reverse=True)\n",
    "print(my_list)"
   ]
  },
  {
   "cell_type": "code",
   "execution_count": 93,
   "metadata": {},
   "outputs": [
    {
     "name": "stdout",
     "output_type": "stream",
     "text": [
      "[1, 1, 4, 5, 6, 7, 8, 10, 10, 12, 13]\n",
      "6\n",
      "Median of this list: 7\n",
      "Value of Q1 is : 3\n",
      "Position of Q1 is : 4\n",
      "Position of Q3 is : 3\n",
      "Position of Q3 is : 4\n"
     ]
    }
   ],
   "source": [
    "my_list=[12,10,13,4,1,5]\n",
    "my_list_1=[6,1,7,8,10]\n",
    "\n",
    "my_list.extend(my_list_1)\n",
    "my_list.sort()\n",
    "print(my_list)\n",
    "\n",
    "position_of_median=(len(my_list)+1)/2\n",
    "position_of_median=int(position_of_median)\n",
    "print(position_of_median)\n",
    "\n",
    "median = my_list[position_of_median-1]\n",
    "print(\"Median of this list:\",median)\n",
    "\n",
    "Q1=(len(my_list)+1)/4\n",
    "Q1=int(Q1)\n",
    "print(\"Value of Q1 is :\",Q1)\n",
    "Q1=my_list[Q1-1]\n",
    "print(\"Position of Q1 is :\",Q1)\n",
    "\n",
    "Q3=((len(my_list)+1))/4\n",
    "Q3=int(Q3)\n",
    "print(\"Position of Q3 is :\",Q3)\n",
    "Q3=my_list[Q3-1]\n",
    "print(\"Position of Q3 is :\",Q3)\n",
    "\n",
    " \n",
    "\n"
   ]
  }
 ],
 "metadata": {
  "kernelspec": {
   "display_name": "Python 3",
   "language": "python",
   "name": "python3"
  },
  "language_info": {
   "codemirror_mode": {
    "name": "ipython",
    "version": 3
   },
   "file_extension": ".py",
   "mimetype": "text/x-python",
   "name": "python",
   "nbconvert_exporter": "python",
   "pygments_lexer": "ipython3",
   "version": "3.13.undefined"
  }
 },
 "nbformat": 4,
 "nbformat_minor": 2
}
